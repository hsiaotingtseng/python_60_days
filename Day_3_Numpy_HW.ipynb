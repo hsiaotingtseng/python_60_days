{
 "cells": [
  {
   "cell_type": "markdown",
   "metadata": {
    "id": "rY2oyzUo2wKZ"
   },
   "source": [
    "作業目標:<br>\n",
    "嘗試練習log的函式並應用<br>\n",
    "作業重點:<br>\n",
    "學員需要複習log的轉換方式<br>\n",
    "熟悉運用指數函數以及對數函數"
   ]
  },
  {
   "cell_type": "markdown",
   "metadata": {
    "id": "Esjhs7zz2y95"
   },
   "source": [
    "題目:<br>\n",
    "運用投影片中的分貝公式回答下列問題。<br>\n",
    "1.正常的談話的聲壓為20000微巴斯卡，請問多少分貝?<br>\n",
    "2.30分貝的聲壓會是50分貝的幾倍?\n"
   ]
  },
  {
   "cell_type": "code",
   "execution_count": 2,
   "metadata": {
    "id": "SKVoN9E82yQi"
   },
   "outputs": [],
   "source": [
    "import numpy as np "
   ]
  },
  {
   "cell_type": "code",
   "execution_count": 4,
   "metadata": {
    "id": "knBzIEbisYO_"
   },
   "outputs": [
    {
     "data": {
      "text/plain": [
       "60.0"
      ]
     },
     "execution_count": 4,
     "metadata": {},
     "output_type": "execute_result"
    }
   ],
   "source": [
    "#1.正常的談話的聲壓為20000微巴斯卡，請問多少分貝?\n",
    "#請寫下程式\n",
    "V1 = 20000\n",
    "V0 = 20\n",
    "g = 20 * np.log10(V1 /V0)\n",
    "g"
   ]
  },
  {
   "cell_type": "code",
   "execution_count": null,
   "metadata": {
    "id": "5Vknqg8esbl_"
   },
   "outputs": [],
   "source": [
    "#2.30分貝的聲壓會是50分貝的幾倍?\n",
    "#公式移項過後可以得到 V1 = ?\n",
    "#請寫下程式\n",
    "g1 = 20 * log10(v1/v0)\n",
    "g1/20 = log10(v1/v0)\n",
    "10 ** (g1/20) = v1/v0\n",
    "10 ** (g1/20) = v1/20\n",
    "20 * 10 ** (g1/20) = v1"
   ]
  },
  {
   "cell_type": "code",
   "execution_count": 10,
   "metadata": {},
   "outputs": [
    {
     "data": {
      "text/plain": [
       "632.4555320336758"
      ]
     },
     "execution_count": 10,
     "metadata": {},
     "output_type": "execute_result"
    }
   ],
   "source": [
    "v_30  = 20 * (10 ** (30/20))\n",
    "v_30"
   ]
  },
  {
   "cell_type": "code",
   "execution_count": 11,
   "metadata": {},
   "outputs": [],
   "source": [
    "v_50 = 20 * (10 ** (50/20))"
   ]
  },
  {
   "cell_type": "code",
   "execution_count": 12,
   "metadata": {},
   "outputs": [
    {
     "data": {
      "text/plain": [
       "6324.555320336759"
      ]
     },
     "execution_count": 12,
     "metadata": {},
     "output_type": "execute_result"
    }
   ],
   "source": [
    "v_50"
   ]
  },
  {
   "cell_type": "code",
   "execution_count": 13,
   "metadata": {},
   "outputs": [
    {
     "data": {
      "text/plain": [
       "0.09999999999999999"
      ]
     },
     "execution_count": 13,
     "metadata": {},
     "output_type": "execute_result"
    }
   ],
   "source": [
    "v_30 / v_50"
   ]
  },
  {
   "cell_type": "code",
   "execution_count": null,
   "metadata": {},
   "outputs": [],
   "source": []
  }
 ],
 "metadata": {
  "colab": {
   "authorship_tag": "ABX9TyNuy8nFyZsCqfcHKKs2ys9H",
   "collapsed_sections": [],
   "name": "作業_Hong題目.ipynb",
   "provenance": []
  },
  "kernelspec": {
   "display_name": "Python 3",
   "language": "python",
   "name": "python3"
  },
  "language_info": {
   "codemirror_mode": {
    "name": "ipython",
    "version": 3
   },
   "file_extension": ".py",
   "mimetype": "text/x-python",
   "name": "python",
   "nbconvert_exporter": "python",
   "pygments_lexer": "ipython3",
   "version": "3.7.6"
  }
 },
 "nbformat": 4,
 "nbformat_minor": 1
}
